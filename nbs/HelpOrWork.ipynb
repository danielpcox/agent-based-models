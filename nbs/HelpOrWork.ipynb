{
 "cells": [
  {
   "cell_type": "markdown",
   "id": "1f33d991",
   "metadata": {
    "pycharm": {
     "name": "#%% md\n"
    }
   },
   "source": [
    "# To help, or to work?\n",
    "\n",
    "My intuition says that I should nearly always take an opportunity to help someone else improve their speed or quality of work, even with some short-term cost in my own output, because it improves the overall productivity *rate*. 🤔 An excellent question for an agent based model.\n",
    "https://twitter.com/danielpcox/status/1557137305441280000\n",
    "\n",
    "Here's the model:\n",
    "\n",
    "- A population of agents has uniform random ability `0.5 <= ability <= 10.0`\n",
    "- Agents walk around a grid of cells randomly each time step.\n",
    "- At each time step, they also either \"produce\" their `ability` in work, or they \"help\" someone in the same cell with lower ability (if any), which improves the other's ability by 0.01.\n",
    "- What proportion of the time they spend helping versus directly producing work is the key parameter of the model we're interested in at first.\n",
    "- We'll keep a chart of overall work produced over time.\n",
    "- We'll also track how everyone would do if they didn't help each other at all, for comparison."
   ]
  },
  {
   "cell_type": "code",
   "execution_count": 680,
   "id": "f937fbb0",
   "metadata": {
    "pycharm": {
     "name": "#%%\n"
    }
   },
   "outputs": [],
   "source": [
    "%matplotlib inline\n",
    "\n",
    "from statistics import mean\n",
    "from mesa import Agent, Model\n",
    "from mesa.time import RandomActivation\n",
    "from mesa.space import MultiGrid\n",
    "from mesa.datacollection import DataCollector\n"
   ]
  },
  {
   "cell_type": "markdown",
   "id": "96aa0aa0",
   "metadata": {
    "pycharm": {
     "name": "#%% md\n"
    }
   },
   "source": [
    "## 'Employee' Agent"
   ]
  },
  {
   "cell_type": "code",
   "execution_count": 681,
   "outputs": [],
   "source": [
    "class Employee(Agent):\n",
    "    def __init__(self, unique_id, model, max_ability, help_boost, help_prob):\n",
    "        super().__init__(unique_id, model)\n",
    "        self.max_ability = max_ability\n",
    "        self.help_boost = help_boost\n",
    "        self.help_prob = help_prob\n",
    "        self.ability = (max_ability - 0.5) * model.random.random() + 0.5\n",
    "        self.original_ability = self.ability\n",
    "        print(f'Agent {unique_id} created with ability {self.ability:.2f}')\n",
    "\n",
    "    def step(self):\n",
    "        self._move()\n",
    "        self._help_or_work()\n",
    "\n",
    "    def _help_or_work(self):\n",
    "        cellmates = self.model.grid.get_cell_list_contents([self.pos])\n",
    "        potential_help_recipients = [o for o in cellmates if o.ability < self.ability]\n",
    "\n",
    "        if len(potential_help_recipients) > 0 and self.model.random.random() < self.help_prob:\n",
    "            other = self.random.choice(potential_help_recipients)\n",
    "            other.ability = min(self.max_ability, other.ability + self.help_boost)\n",
    "        else: # otherwise just produce work according to your ability\n",
    "            self.model.total_work_produced += self.ability\n",
    "\n",
    "        # also interested in how we'd do if nobody helped\n",
    "        self.model.total_work_produced_no_helping += self.original_ability\n",
    "\n",
    "    def _move(self):\n",
    "        neighborhood = self.model.grid.get_neighborhood(self.pos, moore=True, include_center=True)\n",
    "        choice = self.random.choice(neighborhood)\n",
    "        self.model.grid.move_agent(self, choice)\n",
    "\n",
    "    def __str__(self):\n",
    "        return f'[{type(self).__name__}#{self.unique_id} ability={self.ability}]'"
   ],
   "metadata": {
    "collapsed": false,
    "pycharm": {
     "name": "#%%\n"
    }
   }
  },
  {
   "cell_type": "markdown",
   "id": "2610c7bd",
   "metadata": {
    "pycharm": {
     "name": "#%% md\n"
    }
   },
   "source": [
    "## Model"
   ]
  },
  {
   "cell_type": "code",
   "execution_count": 682,
   "id": "14a30174",
   "metadata": {
    "pycharm": {
     "name": "#%%\n"
    }
   },
   "outputs": [],
   "source": [
    "class HelpOrWork(Model):\n",
    "    def __init__(self, N, width, height, max_ability=2.0, help_boost=0.1, help_prob=0.5):\n",
    "        self.N = N\n",
    "        self.max_ability = max_ability\n",
    "        self.help_prob = help_prob\n",
    "        self.help_boost = help_boost\n",
    "        self.total_work_produced = 0\n",
    "        self.total_work_produced_no_helping = 0\n",
    "        self.grid = MultiGrid(width, height, True)\n",
    "        self.schedule = RandomActivation(self)\n",
    "        self.running = True\n",
    "        self.datacollector = DataCollector( model_reporters={\n",
    "            \"Work Produced\": 'total_work_produced',\n",
    "            \"Work Produced (No Helping)\": 'total_work_produced_no_helping',\n",
    "            \"Average Ability\": lambda m: mean([a.ability for a in m.schedule.agents])\n",
    "        })\n",
    "        self.current_id = 0\n",
    "        \n",
    "        for _ in range(self.N):\n",
    "            a = Employee(self.next_id(), self, max_ability, help_boost, help_prob)\n",
    "            self.schedule.add(a)\n",
    "            self.grid.place_agent(a, self.randpos())\n",
    "            \n",
    "    def randpos(self):\n",
    "        x = self.random.randrange(self.grid.width)\n",
    "        y = self.random.randrange(self.grid.height)\n",
    "        return (x,y)\n",
    "            \n",
    "    def step(self):\n",
    "        self.datacollector.collect(self)\n",
    "        self.schedule.step()"
   ]
  },
  {
   "cell_type": "markdown",
   "id": "879ffa78",
   "metadata": {
    "pycharm": {
     "name": "#%% md\n"
    }
   },
   "source": [
    "## Run it"
   ]
  },
  {
   "cell_type": "code",
   "execution_count": 683,
   "id": "ae0c2c45",
   "metadata": {
    "pycharm": {
     "name": "#%%\n"
    }
   },
   "outputs": [
    {
     "name": "stdout",
     "output_type": "stream",
     "text": [
      "Agent 1 created with ability 1.62\n",
      "Agent 2 created with ability 1.94\n",
      "Agent 3 created with ability 1.38\n",
      "Agent 4 created with ability 0.70\n",
      "Agent 5 created with ability 1.62\n",
      "Agent 6 created with ability 0.54\n",
      "Agent 7 created with ability 1.29\n",
      "Agent 8 created with ability 1.40\n",
      "Agent 9 created with ability 1.29\n",
      "Agent 10 created with ability 1.16\n",
      "Agent 11 created with ability 0.67\n",
      "Agent 12 created with ability 1.87\n",
      "Agent 13 created with ability 0.60\n",
      "Agent 14 created with ability 0.63\n",
      "Agent 15 created with ability 1.87\n",
      "Agent 16 created with ability 1.45\n",
      "Agent 17 created with ability 0.63\n",
      "Agent 18 created with ability 0.63\n",
      "Agent 19 created with ability 0.71\n",
      "Agent 20 created with ability 0.70\n",
      "Agent 21 created with ability 0.89\n",
      "Agent 22 created with ability 1.60\n",
      "Agent 23 created with ability 0.97\n",
      "Agent 24 created with ability 0.55\n",
      "Agent 25 created with ability 1.59\n",
      "Agent 26 created with ability 1.68\n",
      "Agent 27 created with ability 1.72\n",
      "Agent 28 created with ability 0.95\n",
      "Agent 29 created with ability 1.40\n",
      "Agent 30 created with ability 1.14\n",
      "Agent 31 created with ability 1.48\n",
      "Agent 32 created with ability 0.99\n",
      "Agent 33 created with ability 1.68\n",
      "Agent 34 created with ability 1.04\n",
      "Agent 35 created with ability 1.22\n",
      "Agent 36 created with ability 0.60\n",
      "Agent 37 created with ability 1.58\n",
      "Agent 38 created with ability 1.75\n",
      "Agent 39 created with ability 1.60\n",
      "Agent 40 created with ability 0.99\n",
      "Agent 41 created with ability 1.83\n",
      "Agent 42 created with ability 1.12\n",
      "Agent 43 created with ability 0.94\n",
      "Agent 44 created with ability 1.22\n",
      "Agent 45 created with ability 1.57\n",
      "Agent 46 created with ability 1.24\n",
      "Agent 47 created with ability 1.06\n",
      "Agent 48 created with ability 0.89\n",
      "Agent 49 created with ability 1.96\n",
      "Agent 50 created with ability 1.25\n",
      "Agent 51 created with ability 0.66\n",
      "Agent 52 created with ability 1.03\n",
      "Agent 53 created with ability 1.16\n",
      "Agent 54 created with ability 1.98\n",
      "Agent 55 created with ability 1.51\n",
      "Agent 56 created with ability 1.80\n",
      "Agent 57 created with ability 1.66\n",
      "Agent 58 created with ability 0.84\n",
      "Agent 59 created with ability 1.13\n",
      "Agent 60 created with ability 1.47\n",
      "Agent 61 created with ability 1.82\n",
      "Agent 62 created with ability 1.97\n",
      "Agent 63 created with ability 0.57\n",
      "Agent 64 created with ability 1.12\n",
      "Agent 65 created with ability 0.51\n",
      "Agent 66 created with ability 1.89\n",
      "Agent 67 created with ability 0.58\n",
      "Agent 68 created with ability 1.90\n",
      "Agent 69 created with ability 1.23\n",
      "Agent 70 created with ability 0.89\n",
      "Agent 71 created with ability 1.90\n",
      "Agent 72 created with ability 0.52\n",
      "Agent 73 created with ability 1.78\n",
      "Agent 74 created with ability 1.17\n",
      "Agent 75 created with ability 0.70\n",
      "Agent 76 created with ability 1.66\n",
      "Agent 77 created with ability 0.93\n",
      "Agent 78 created with ability 1.13\n",
      "Agent 79 created with ability 1.04\n",
      "Agent 80 created with ability 1.88\n"
     ]
    }
   ],
   "source": [
    "model = HelpOrWork(N=80,\n",
    "                   height=10,\n",
    "                   width=10,\n",
    "                   max_ability=2.0,\n",
    "                   help_boost=0.1,\n",
    "                   help_prob=1.0)\n",
    "\n",
    "for i in range(100):\n",
    "    model.step()\n",
    "\n",
    "breakdown = model.datacollector.get_model_vars_dataframe()"
   ]
  },
  {
   "cell_type": "code",
   "execution_count": 684,
   "outputs": [
    {
     "data": {
      "text/plain": "<AxesSubplot:>"
     },
     "execution_count": 684,
     "metadata": {},
     "output_type": "execute_result"
    },
    {
     "data": {
      "text/plain": "<Figure size 432x288 with 1 Axes>",
      "image/png": "[encoded data removed]"
     },
     "metadata": {
      "needs_background": "light"
     },
     "output_type": "display_data"
    }
   ],
   "source": [
    "breakdown[[\"Work Produced\", \"Work Produced (No Helping)\"]].plot()"
   ],
   "metadata": {
    "collapsed": false,
    "pycharm": {
     "name": "#%%\n"
    }
   }
  },
  {
   "cell_type": "code",
   "execution_count": 685,
   "outputs": [
    {
     "data": {
      "text/plain": "<AxesSubplot:>"
     },
     "execution_count": 685,
     "metadata": {},
     "output_type": "execute_result"
    },
    {
     "data": {
      "text/plain": "<Figure size 432x288 with 1 Axes>",
      "image/png": "[encoded data removed]"
     },
     "metadata": {
      "needs_background": "light"
     },
     "output_type": "display_data"
    }
   ],
   "source": [
    "breakdown[\"Average Ability\"].plot()"
   ],
   "metadata": {
    "collapsed": false,
    "pycharm": {
     "name": "#%%\n"
    }
   }
  },
  {
   "cell_type": "code",
   "execution_count": 686,
   "outputs": [
    {
     "name": "stdout",
     "output_type": "stream",
     "text": [
      "Final Timestep:\n"
     ]
    },
    {
     "data": {
      "text/plain": "Work Produced                 13898.275967\nWork Produced (No Helping)     9864.079090\nAverage Ability                   2.000000\nName: 99, dtype: float64"
     },
     "execution_count": 686,
     "metadata": {},
     "output_type": "execute_result"
    }
   ],
   "source": [
    "print('Final Timestep:')\n",
    "breakdown.iloc[-1]"
   ],
   "metadata": {
    "collapsed": false,
    "pycharm": {
     "name": "#%%\n"
    }
   }
  },
  {
   "cell_type": "code",
   "execution_count": 686,
   "outputs": [],
   "source": [],
   "metadata": {
    "collapsed": false,
    "pycharm": {
     "name": "#%%\n"
    }
   }
  }
 ],
 "metadata": {
  "hide_input": false,
  "kernelspec": {
   "name": "agent_based_models",
   "language": "python",
   "display_name": "agent_based_models"
  },
  "language_info": {
   "codemirror_mode": {
    "name": "ipython",
    "version": 3
   },
   "file_extension": ".py",
   "mimetype": "text/x-python",
   "name": "python",
   "nbconvert_exporter": "python",
   "pygments_lexer": "ipython3",
   "version": "3.10.4"
  }
 },
 "nbformat": 4,
 "nbformat_minor": 5
}